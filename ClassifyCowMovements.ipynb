{
 "cells": [
  {
   "cell_type": "markdown",
   "id": "4aa52db2",
   "metadata": {},
   "source": [
    "# Classification of Cow's movement\n",
    "### in this project we classified nine genral movements by a cow using imu dataset\n",
    "### traning dataset is eighty percent of total data used to train multi level classification model\n",
    "### Prominent machine learning algoritms were implemted comparing their accuracy after EDA, data    preprocessing and scaling the featur variables"
   ]
  },
  {
   "cell_type": "code",
   "execution_count": null,
   "id": "0f1b68ab",
   "metadata": {},
   "outputs": [],
   "source": []
  },
  {
   "cell_type": "code",
   "execution_count": null,
   "id": "572e8807",
   "metadata": {},
   "outputs": [],
   "source": [
    "#importing libries and reading csv in asingle dataframe"
   ]
  },
  {
   "cell_type": "code",
   "execution_count": 25,
   "id": "8a8f3130",
   "metadata": {},
   "outputs": [],
   "source": [
    "import pandas as pd\n",
    "import numpy as np\n",
    "import seaborn as sns\n",
    "import matplotlib.pyplot as plt\n",
    "import warnings"
   ]
  },
  {
   "cell_type": "code",
   "execution_count": 26,
   "id": "09414d6b",
   "metadata": {},
   "outputs": [],
   "source": [
    "warnings.filterwarnings('ignore')"
   ]
  },
  {
   "cell_type": "code",
   "execution_count": 27,
   "id": "ce9fd400",
   "metadata": {},
   "outputs": [],
   "source": [
    "df1=pd.read_csv(r'C:\\Users\\jahaa\\Downloads/E1_train.csv')\n",
    "df2=pd.read_csv(r'C:\\Users\\jahaa\\Downloads/D2_train.csv')\n",
    "df3 = pd.read_csv(r'C:\\Users\\jahaa\\Downloads/W3_train.csv')\n",
    "df4 = pd.read_csv(r'C:\\Users\\jahaa\\Downloads/S4_train.csv')\n",
    "df5 = pd.read_csv(r'C:\\Users\\jahaa\\Downloads/L5_train.csv')\n",
    "df6 = pd.read_csv(r'C:\\Users\\jahaa\\Downloads/RS6_train.csv')\n",
    "df7 = pd.read_csv(r'C:\\Users\\jahaa\\Downloads/RL7_train.csv')\n",
    "df8 = pd.read_csv(r'C:\\Users\\jahaa\\Downloads/G8_train.csv')\n",
    "df9 = pd.read_csv(r'C:\\Users\\jahaa\\Downloads/I9_train.csv')"
   ]
  },
  {
   "cell_type": "code",
   "execution_count": 28,
   "id": "cb5897a3",
   "metadata": {},
   "outputs": [],
   "source": [
    "df =pd.concat( [df1,df2,df3,df4,df5,df6,df7,df8,df9])"
   ]
  },
  {
   "cell_type": "code",
   "execution_count": 29,
   "id": "5883a81b",
   "metadata": {
    "scrolled": false
   },
   "outputs": [
    {
     "data": {
      "text/html": [
       "<div>\n",
       "<style scoped>\n",
       "    .dataframe tbody tr th:only-of-type {\n",
       "        vertical-align: middle;\n",
       "    }\n",
       "\n",
       "    .dataframe tbody tr th {\n",
       "        vertical-align: top;\n",
       "    }\n",
       "\n",
       "    .dataframe thead th {\n",
       "        text-align: right;\n",
       "    }\n",
       "</style>\n",
       "<table border=\"1\" class=\"dataframe\">\n",
       "  <thead>\n",
       "    <tr style=\"text-align: right;\">\n",
       "      <th></th>\n",
       "      <th>time</th>\n",
       "      <th>acc_x</th>\n",
       "      <th>acc_y</th>\n",
       "      <th>acc_z</th>\n",
       "      <th>gyr_x</th>\n",
       "      <th>gyr_y</th>\n",
       "      <th>gyr_z</th>\n",
       "      <th>mag_x</th>\n",
       "      <th>mag_y</th>\n",
       "      <th>mag_z</th>\n",
       "      <th>label</th>\n",
       "    </tr>\n",
       "  </thead>\n",
       "  <tbody>\n",
       "    <tr>\n",
       "      <th>0</th>\n",
       "      <td>1628308980</td>\n",
       "      <td>0.376465</td>\n",
       "      <td>0.860840</td>\n",
       "      <td>-0.114746</td>\n",
       "      <td>22.521973</td>\n",
       "      <td>-18.981934</td>\n",
       "      <td>15.075683</td>\n",
       "      <td>-297.0</td>\n",
       "      <td>1432.5</td>\n",
       "      <td>508.5</td>\n",
       "      <td>1</td>\n",
       "    </tr>\n",
       "    <tr>\n",
       "      <th>1</th>\n",
       "      <td>1628308980</td>\n",
       "      <td>0.325684</td>\n",
       "      <td>0.889160</td>\n",
       "      <td>-0.103516</td>\n",
       "      <td>25.085449</td>\n",
       "      <td>3.417969</td>\n",
       "      <td>12.756348</td>\n",
       "      <td>-292.5</td>\n",
       "      <td>1447.5</td>\n",
       "      <td>520.5</td>\n",
       "      <td>1</td>\n",
       "    </tr>\n",
       "    <tr>\n",
       "      <th>2</th>\n",
       "      <td>1628308980</td>\n",
       "      <td>0.269531</td>\n",
       "      <td>0.931641</td>\n",
       "      <td>-0.067383</td>\n",
       "      <td>24.353027</td>\n",
       "      <td>20.019531</td>\n",
       "      <td>11.352539</td>\n",
       "      <td>-297.0</td>\n",
       "      <td>1423.5</td>\n",
       "      <td>523.5</td>\n",
       "      <td>1</td>\n",
       "    </tr>\n",
       "  </tbody>\n",
       "</table>\n",
       "</div>"
      ],
      "text/plain": [
       "         time     acc_x     acc_y     acc_z      gyr_x      gyr_y      gyr_z  \\\n",
       "0  1628308980  0.376465  0.860840 -0.114746  22.521973 -18.981934  15.075683   \n",
       "1  1628308980  0.325684  0.889160 -0.103516  25.085449   3.417969  12.756348   \n",
       "2  1628308980  0.269531  0.931641 -0.067383  24.353027  20.019531  11.352539   \n",
       "\n",
       "   mag_x   mag_y  mag_z  label  \n",
       "0 -297.0  1432.5  508.5      1  \n",
       "1 -292.5  1447.5  520.5      1  \n",
       "2 -297.0  1423.5  523.5      1  "
      ]
     },
     "execution_count": 29,
     "metadata": {},
     "output_type": "execute_result"
    }
   ],
   "source": [
    "df.head(3)"
   ]
  },
  {
   "cell_type": "code",
   "execution_count": null,
   "id": "09be85aa",
   "metadata": {},
   "outputs": [],
   "source": []
  },
  {
   "cell_type": "markdown",
   "id": "dbcf0d24",
   "metadata": {},
   "source": [
    "# EDA( Exploratory Data Analysis)"
   ]
  },
  {
   "cell_type": "code",
   "execution_count": null,
   "id": "a4206ea6",
   "metadata": {},
   "outputs": [],
   "source": []
  },
  {
   "cell_type": "code",
   "execution_count": 30,
   "id": "4dbea7e7",
   "metadata": {},
   "outputs": [
    {
     "name": "stdout",
     "output_type": "stream",
     "text": [
      "<class 'pandas.core.frame.DataFrame'>\n",
      "Int64Index: 12263524 entries, 0 to 405262\n",
      "Data columns (total 11 columns):\n",
      " #   Column  Dtype  \n",
      "---  ------  -----  \n",
      " 0   time    int64  \n",
      " 1   acc_x   float64\n",
      " 2   acc_y   float64\n",
      " 3   acc_z   float64\n",
      " 4   gyr_x   float64\n",
      " 5   gyr_y   float64\n",
      " 6   gyr_z   float64\n",
      " 7   mag_x   float64\n",
      " 8   mag_y   float64\n",
      " 9   mag_z   float64\n",
      " 10  label   int64  \n",
      "dtypes: float64(9), int64(2)\n",
      "memory usage: 1.1 GB\n"
     ]
    }
   ],
   "source": [
    "df.info()"
   ]
  },
  {
   "cell_type": "code",
   "execution_count": null,
   "id": "0d77d16d",
   "metadata": {},
   "outputs": [],
   "source": [
    "# visualizing the distribution of values of feature variables using boxplot"
   ]
  },
  {
   "cell_type": "code",
   "execution_count": 31,
   "id": "33418d52",
   "metadata": {},
   "outputs": [],
   "source": [
    "outlined=['acc_x','acc_y','acc_z','gyr_x','gyr_y','gyr_z','mag_x','mag_y','mag_z']"
   ]
  },
  {
   "cell_type": "code",
   "execution_count": 32,
   "id": "06b0c4ec",
   "metadata": {
    "scrolled": true
   },
   "outputs": [
    {
     "data": {
      "image/png": "[encoded data removed]",
      "text/plain": [
       "<Figure size 432x288 with 1 Axes>"
      ]
     },
     "metadata": {
      "needs_background": "light"
     },
     "output_type": "display_data"
    },
    {
     "data": {
      "image/png": "[encoded data removed]",
      "text/plain": [
       "<Figure size 1080x360 with 1 Axes>"
      ]
     },
     "metadata": {
      "needs_background": "light"
     },
     "output_type": "display_data"
    },
    {
     "data": {
      "image/png": "[encoded data removed]",
      "text/plain": [
       "<Figure size 1080x360 with 1 Axes>"
      ]
     },
     "metadata": {
      "needs_background": "light"
     },
     "output_type": "display_data"
    },
    {
     "data": {
      "image/png": "[encoded data removed]",
      "text/plain": [
       "<Figure size 1080x360 with 1 Axes>"
      ]
     },
     "metadata": {
      "needs_background": "light"
     },
     "output_type": "display_data"
    },
    {
     "data": {
      "image/png": "[encoded data removed]",
      "text/plain": [
       "<Figure size 1080x360 with 1 Axes>"
      ]
     },
     "metadata": {
      "needs_background": "light"
     },
     "output_type": "display_data"
    },
    {
     "data": {
      "image/png": "[encoded data removed]",
      "text/plain": [
       "<Figure size 1080x360 with 1 Axes>"
      ]
     },
     "metadata": {
      "needs_background": "light"
     },
     "output_type": "display_data"
    },
    {
     "data": {
      "image/png": "[encoded data removed]",
      "text/plain": [
       "<Figure size 1080x360 with 1 Axes>"
      ]
     },
     "metadata": {
      "needs_background": "light"
     },
     "output_type": "display_data"
    },
    {
     "data": {
      "image/png": "[encoded data removed]",
      "text/plain": [
       "<Figure size 1080x360 with 1 Axes>"
      ]
     },
     "metadata": {
      "needs_background": "light"
     },
     "output_type": "display_data"
    },
    {
     "data": {
      "image/png": "[encoded data removed]",
      "text/plain": [
       "<Figure size 1080x360 with 1 Axes>"
      ]
     },
     "metadata": {
      "needs_background": "light"
     },
     "output_type": "display_data"
    },
    {
     "data": {
      "image/png": "[encoded data removed]",
      "text/plain": [
       "<Figure size 1080x360 with 1 Axes>"
      ]
     },
     "metadata": {
      "needs_background": "light"
     },
     "output_type": "display_data"
    }
   ],
   "source": [
    "def plot(df,var):\n",
    "    sns.boxplot(df[var])\n",
    "    plt.figure(figsize=(15,5))\n",
    "    plt.subplot(121)\n",
    "for col in outlined:\n",
    "    plot(df,col)"
   ]
  },
  {
   "cell_type": "code",
   "execution_count": 33,
   "id": "44229d92",
   "metadata": {
    "scrolled": true
   },
   "outputs": [
    {
     "data": {
      "text/html": [
       "<div>\n",
       "<style scoped>\n",
       "    .dataframe tbody tr th:only-of-type {\n",
       "        vertical-align: middle;\n",
       "    }\n",
       "\n",
       "    .dataframe tbody tr th {\n",
       "        vertical-align: top;\n",
       "    }\n",
       "\n",
       "    .dataframe thead th {\n",
       "        text-align: right;\n",
       "    }\n",
       "</style>\n",
       "<table border=\"1\" class=\"dataframe\">\n",
       "  <thead>\n",
       "    <tr style=\"text-align: right;\">\n",
       "      <th></th>\n",
       "      <th>time</th>\n",
       "      <th>acc_x</th>\n",
       "      <th>acc_y</th>\n",
       "      <th>acc_z</th>\n",
       "      <th>gyr_x</th>\n",
       "      <th>gyr_y</th>\n",
       "      <th>gyr_z</th>\n",
       "      <th>mag_x</th>\n",
       "      <th>mag_y</th>\n",
       "      <th>mag_z</th>\n",
       "      <th>label</th>\n",
       "    </tr>\n",
       "  </thead>\n",
       "  <tbody>\n",
       "    <tr>\n",
       "      <th>0</th>\n",
       "      <td>1628308980</td>\n",
       "      <td>0.376465</td>\n",
       "      <td>0.860840</td>\n",
       "      <td>-0.114746</td>\n",
       "      <td>22.521973</td>\n",
       "      <td>-18.981934</td>\n",
       "      <td>15.075683</td>\n",
       "      <td>-297.0</td>\n",
       "      <td>1432.5</td>\n",
       "      <td>508.5</td>\n",
       "      <td>1</td>\n",
       "    </tr>\n",
       "    <tr>\n",
       "      <th>1</th>\n",
       "      <td>1628308980</td>\n",
       "      <td>0.325684</td>\n",
       "      <td>0.889160</td>\n",
       "      <td>-0.103516</td>\n",
       "      <td>25.085449</td>\n",
       "      <td>3.417969</td>\n",
       "      <td>12.756348</td>\n",
       "      <td>-292.5</td>\n",
       "      <td>1447.5</td>\n",
       "      <td>520.5</td>\n",
       "      <td>1</td>\n",
       "    </tr>\n",
       "    <tr>\n",
       "      <th>2</th>\n",
       "      <td>1628308980</td>\n",
       "      <td>0.269531</td>\n",
       "      <td>0.931641</td>\n",
       "      <td>-0.067383</td>\n",
       "      <td>24.353027</td>\n",
       "      <td>20.019531</td>\n",
       "      <td>11.352539</td>\n",
       "      <td>-297.0</td>\n",
       "      <td>1423.5</td>\n",
       "      <td>523.5</td>\n",
       "      <td>1</td>\n",
       "    </tr>\n",
       "    <tr>\n",
       "      <th>3</th>\n",
       "      <td>1628308980</td>\n",
       "      <td>0.225098</td>\n",
       "      <td>0.958008</td>\n",
       "      <td>-0.031250</td>\n",
       "      <td>19.104004</td>\n",
       "      <td>23.803711</td>\n",
       "      <td>7.019043</td>\n",
       "      <td>-297.0</td>\n",
       "      <td>1431.0</td>\n",
       "      <td>523.5</td>\n",
       "      <td>1</td>\n",
       "    </tr>\n",
       "    <tr>\n",
       "      <th>4</th>\n",
       "      <td>1628308980</td>\n",
       "      <td>0.204590</td>\n",
       "      <td>0.961426</td>\n",
       "      <td>-0.001953</td>\n",
       "      <td>15.258789</td>\n",
       "      <td>23.193359</td>\n",
       "      <td>2.807617</td>\n",
       "      <td>-286.5</td>\n",
       "      <td>1431.0</td>\n",
       "      <td>538.5</td>\n",
       "      <td>1</td>\n",
       "    </tr>\n",
       "    <tr>\n",
       "      <th>...</th>\n",
       "      <td>...</td>\n",
       "      <td>...</td>\n",
       "      <td>...</td>\n",
       "      <td>...</td>\n",
       "      <td>...</td>\n",
       "      <td>...</td>\n",
       "      <td>...</td>\n",
       "      <td>...</td>\n",
       "      <td>...</td>\n",
       "      <td>...</td>\n",
       "      <td>...</td>\n",
       "    </tr>\n",
       "    <tr>\n",
       "      <th>405258</th>\n",
       "      <td>1628341587</td>\n",
       "      <td>0.517090</td>\n",
       "      <td>0.680176</td>\n",
       "      <td>-0.476074</td>\n",
       "      <td>-0.244141</td>\n",
       "      <td>-3.479004</td>\n",
       "      <td>-3.356934</td>\n",
       "      <td>-984.0</td>\n",
       "      <td>663.0</td>\n",
       "      <td>880.5</td>\n",
       "      <td>9</td>\n",
       "    </tr>\n",
       "    <tr>\n",
       "      <th>405259</th>\n",
       "      <td>1628341587</td>\n",
       "      <td>0.516113</td>\n",
       "      <td>0.686523</td>\n",
       "      <td>-0.475586</td>\n",
       "      <td>0.854492</td>\n",
       "      <td>-3.967285</td>\n",
       "      <td>-3.723145</td>\n",
       "      <td>-984.0</td>\n",
       "      <td>660.0</td>\n",
       "      <td>867.0</td>\n",
       "      <td>9</td>\n",
       "    </tr>\n",
       "    <tr>\n",
       "      <th>405260</th>\n",
       "      <td>1628341587</td>\n",
       "      <td>0.519043</td>\n",
       "      <td>0.693359</td>\n",
       "      <td>-0.488770</td>\n",
       "      <td>0.671387</td>\n",
       "      <td>-3.417969</td>\n",
       "      <td>-4.150391</td>\n",
       "      <td>-991.5</td>\n",
       "      <td>667.5</td>\n",
       "      <td>874.5</td>\n",
       "      <td>9</td>\n",
       "    </tr>\n",
       "    <tr>\n",
       "      <th>405261</th>\n",
       "      <td>1628341587</td>\n",
       "      <td>0.520508</td>\n",
       "      <td>0.687988</td>\n",
       "      <td>-0.482422</td>\n",
       "      <td>-0.244141</td>\n",
       "      <td>-3.051758</td>\n",
       "      <td>-3.417969</td>\n",
       "      <td>-987.0</td>\n",
       "      <td>663.0</td>\n",
       "      <td>865.5</td>\n",
       "      <td>9</td>\n",
       "    </tr>\n",
       "    <tr>\n",
       "      <th>405262</th>\n",
       "      <td>1628341587</td>\n",
       "      <td>0.517578</td>\n",
       "      <td>0.697266</td>\n",
       "      <td>-0.485840</td>\n",
       "      <td>0.610352</td>\n",
       "      <td>-2.197266</td>\n",
       "      <td>-1.953125</td>\n",
       "      <td>-994.5</td>\n",
       "      <td>675.0</td>\n",
       "      <td>868.5</td>\n",
       "      <td>9</td>\n",
       "    </tr>\n",
       "  </tbody>\n",
       "</table>\n",
       "<p>12263524 rows × 11 columns</p>\n",
       "</div>"
      ],
      "text/plain": [
       "              time     acc_x     acc_y     acc_z      gyr_x      gyr_y  \\\n",
       "0       1628308980  0.376465  0.860840 -0.114746  22.521973 -18.981934   \n",
       "1       1628308980  0.325684  0.889160 -0.103516  25.085449   3.417969   \n",
       "2       1628308980  0.269531  0.931641 -0.067383  24.353027  20.019531   \n",
       "3       1628308980  0.225098  0.958008 -0.031250  19.104004  23.803711   \n",
       "4       1628308980  0.204590  0.961426 -0.001953  15.258789  23.193359   \n",
       "...            ...       ...       ...       ...        ...        ...   \n",
       "405258  1628341587  0.517090  0.680176 -0.476074  -0.244141  -3.479004   \n",
       "405259  1628341587  0.516113  0.686523 -0.475586   0.854492  -3.967285   \n",
       "405260  1628341587  0.519043  0.693359 -0.488770   0.671387  -3.417969   \n",
       "405261  1628341587  0.520508  0.687988 -0.482422  -0.244141  -3.051758   \n",
       "405262  1628341587  0.517578  0.697266 -0.485840   0.610352  -2.197266   \n",
       "\n",
       "            gyr_z  mag_x   mag_y  mag_z  label  \n",
       "0       15.075683 -297.0  1432.5  508.5      1  \n",
       "1       12.756348 -292.5  1447.5  520.5      1  \n",
       "2       11.352539 -297.0  1423.5  523.5      1  \n",
       "3        7.019043 -297.0  1431.0  523.5      1  \n",
       "4        2.807617 -286.5  1431.0  538.5      1  \n",
       "...           ...    ...     ...    ...    ...  \n",
       "405258  -3.356934 -984.0   663.0  880.5      9  \n",
       "405259  -3.723145 -984.0   660.0  867.0      9  \n",
       "405260  -4.150391 -991.5   667.5  874.5      9  \n",
       "405261  -3.417969 -987.0   663.0  865.5      9  \n",
       "405262  -1.953125 -994.5   675.0  868.5      9  \n",
       "\n",
       "[12263524 rows x 11 columns]"
      ]
     },
     "execution_count": 33,
     "metadata": {},
     "output_type": "execute_result"
    }
   ],
   "source": [
    "df"
   ]
  },
  {
   "cell_type": "code",
   "execution_count": null,
   "id": "d31a9a68",
   "metadata": {},
   "outputs": [],
   "source": []
  },
  {
   "cell_type": "code",
   "execution_count": null,
   "id": "785b265d",
   "metadata": {},
   "outputs": [],
   "source": [
    "# since the interquantile range of many variables in very thin as well as the IQR tells us that the data is unbalanced\n",
    "# and by doing some prework I found out that half of our valuable data will be lost if we remove outliners and labels will be from 1 to 5 only"
   ]
  },
  {
   "cell_type": "code",
   "execution_count": null,
   "id": "bffedf32",
   "metadata": {},
   "outputs": [],
   "source": []
  },
  {
   "cell_type": "code",
   "execution_count": 34,
   "id": "95cc09be",
   "metadata": {
    "scrolled": false
   },
   "outputs": [
    {
     "name": "stdout",
     "output_type": "stream",
     "text": [
      "time     229095.000000\n",
      "acc_x         0.379883\n",
      "acc_y         0.145508\n",
      "acc_z         0.168945\n",
      "gyr_x         5.737305\n",
      "gyr_y         7.568359\n",
      "gyr_z         4.150391\n",
      "mag_x       337.500000\n",
      "mag_y      1029.000000\n",
      "mag_z       483.000000\n",
      "label         5.000000\n",
      "dtype: float64\n"
     ]
    }
   ],
   "source": [
    "Q1 = df.quantile(0.25)\n",
    "Q3 = df.quantile(0.75)\n",
    "IQR = Q3 - Q1\n",
    "print(IQR)"
   ]
  },
  {
   "cell_type": "code",
   "execution_count": 35,
   "id": "50cc0b5c",
   "metadata": {},
   "outputs": [
    {
     "data": {
      "text/plain": [
       "time     0\n",
       "acc_x    0\n",
       "acc_y    0\n",
       "acc_z    0\n",
       "gyr_x    0\n",
       "gyr_y    0\n",
       "gyr_z    0\n",
       "mag_x    0\n",
       "mag_y    0\n",
       "mag_z    0\n",
       "label    0\n",
       "dtype: int64"
      ]
     },
     "execution_count": 35,
     "metadata": {},
     "output_type": "execute_result"
    }
   ],
   "source": [
    "df.isna().sum()"
   ]
  },
  {
   "cell_type": "code",
   "execution_count": 37,
   "id": "e8d40a22",
   "metadata": {
    "scrolled": true
   },
   "outputs": [
    {
     "data": {
      "text/plain": [
       "<AxesSubplot:xlabel='label', ylabel='count'>"
      ]
     },
     "execution_count": 37,
     "metadata": {},
     "output_type": "execute_result"
    },
    {
     "data": {
      "image/png": "[encoded data removed]",
      "text/plain": [
       "<Figure size 432x288 with 1 Axes>"
      ]
     },
     "metadata": {
      "needs_background": "light"
     },
     "output_type": "display_data"
    }
   ],
   "source": [
    "sns.countplot(x='label',data=df)"
   ]
  },
  {
   "cell_type": "code",
   "execution_count": null,
   "id": "40f98d0e",
   "metadata": {},
   "outputs": [],
   "source": []
  },
  {
   "cell_type": "markdown",
   "id": "32343f03",
   "metadata": {},
   "source": [
    "# Data Preprocessing and Plotting scaled values"
   ]
  },
  {
   "cell_type": "code",
   "execution_count": null,
   "id": "5b53f2fd",
   "metadata": {},
   "outputs": [],
   "source": []
  },
  {
   "cell_type": "code",
   "execution_count": 38,
   "id": "6e85d536",
   "metadata": {},
   "outputs": [],
   "source": [
    "X = df.drop(columns =['label','time'],axis=1)\n"
   ]
  },
  {
   "cell_type": "code",
   "execution_count": 40,
   "id": "72846ac3",
   "metadata": {},
   "outputs": [],
   "source": [
    "Y = df['label']"
   ]
  },
  {
   "cell_type": "code",
   "execution_count": 41,
   "id": "5190b527",
   "metadata": {
    "scrolled": true
   },
   "outputs": [
    {
     "data": {
      "text/plain": [
       "0         1\n",
       "1         1\n",
       "2         1\n",
       "3         1\n",
       "4         1\n",
       "         ..\n",
       "405258    9\n",
       "405259    9\n",
       "405260    9\n",
       "405261    9\n",
       "405262    9\n",
       "Name: label, Length: 12263524, dtype: int64"
      ]
     },
     "execution_count": 41,
     "metadata": {},
     "output_type": "execute_result"
    }
   ],
   "source": [
    "Y"
   ]
  },
  {
   "cell_type": "code",
   "execution_count": null,
   "id": "3138d432",
   "metadata": {},
   "outputs": [],
   "source": [
    "# Standard Scaler helps to get standardized distribution, with a zero mean and standard deviation of one (unit variance) \n",
    "#It standardizes features by subtracting the mean value from the feature and then dividing the result by feature standard deviation."
   ]
  },
  {
   "cell_type": "code",
   "execution_count": null,
   "id": "590e0d5e",
   "metadata": {},
   "outputs": [],
   "source": []
  },
  {
   "cell_type": "code",
   "execution_count": 29,
   "id": "6a80e87d",
   "metadata": {
    "scrolled": true
   },
   "outputs": [],
   "source": [
    "from sklearn.preprocessing import StandardScaler\n"
   ]
  },
  {
   "cell_type": "code",
   "execution_count": 31,
   "id": "905cdeb2",
   "metadata": {},
   "outputs": [],
   "source": [
    "def plots(df,var,t):\n",
    "    plt.subplot(122)\n",
    "    p1 = t.fit_transform(df[[var]]).flatten()\n",
    "    sns.kdeplot(p1)\n",
    "    plt.title('after'+str(t))\n"
   ]
  },
  {
   "cell_type": "code",
   "execution_count": 32,
   "id": "45243e93",
   "metadata": {
    "scrolled": false
   },
   "outputs": [
    {
     "data": {
      "image/png": "[encoded data removed]",
      "text/plain": [
       "<Figure size 432x288 with 1 Axes>"
      ]
     },
     "metadata": {
      "needs_background": "light"
     },
     "output_type": "display_data"
    }
   ],
   "source": [
    "for col in X[outlined].columns:\n",
    "    plots(X[outlined],col,StandardScaler())"
   ]
  },
  {
   "cell_type": "code",
   "execution_count": null,
   "id": "69a93d3e",
   "metadata": {},
   "outputs": [],
   "source": [
    "# standardscaler didnot work well and the data is skewed "
   ]
  },
  {
   "cell_type": "code",
   "execution_count": null,
   "id": "7e47b563",
   "metadata": {},
   "outputs": [],
   "source": [
    "# A quantile transform will map a variable’s probability distribution to another probability distribution. "
   ]
  },
  {
   "cell_type": "code",
   "execution_count": 33,
   "id": "6fc2b83a",
   "metadata": {},
   "outputs": [
    {
     "data": {
      "image/png": "[encoded data removed]",
      "text/plain": [
       "<Figure size 432x288 with 1 Axes>"
      ]
     },
     "metadata": {
      "needs_background": "light"
     },
     "output_type": "display_data"
    }
   ],
   "source": [
    "from sklearn.preprocessing import QuatileTransform\n",
    "for col in X[outlined].columns:\n",
    "    plots(X[outlined],col,QuantileTransformer(output_distribution = 'normal'))"
   ]
  },
  {
   "cell_type": "code",
   "execution_count": null,
   "id": "5e4d4e0f",
   "metadata": {},
   "outputs": [],
   "source": [
    "# it scaled the data in gussian probabily distribution"
   ]
  },
  {
   "cell_type": "code",
   "execution_count": null,
   "id": "b54e9ca3",
   "metadata": {},
   "outputs": [],
   "source": []
  },
  {
   "cell_type": "markdown",
   "id": "f848ca40",
   "metadata": {},
   "source": [
    "# Training and Testing Models"
   ]
  },
  {
   "cell_type": "code",
   "execution_count": null,
   "id": "ee7c0d3c",
   "metadata": {},
   "outputs": [],
   "source": []
  },
  {
   "cell_type": "code",
   "execution_count": null,
   "id": "23e85ed0",
   "metadata": {},
   "outputs": [],
   "source": []
  },
  {
   "cell_type": "code",
   "execution_count": 43,
   "id": "9f993b7b",
   "metadata": {},
   "outputs": [],
   "source": [
    "from sklearn.preprocessing import QuantileTransformer\n",
    "quantile = QuantileTransformer(output_distribution='normal')\n",
    "X = quantile.fit_transform(X)"
   ]
  },
  {
   "cell_type": "code",
   "execution_count": 44,
   "id": "1f8890d4",
   "metadata": {},
   "outputs": [],
   "source": [
    "from sklearn.model_selection import train_test_split\n",
    "x_train, x_test, y_train, y_test = train_test_split(X, Y,random_state =0,shuffle=True,test_size = 0.2)"
   ]
  },
  {
   "cell_type": "code",
   "execution_count": 45,
   "id": "1080c970",
   "metadata": {
    "scrolled": true
   },
   "outputs": [
    {
     "data": {
      "text/plain": [
       "array([[-0.46680326,  0.10684126,  0.40199502, ...,  1.49543302,\n",
       "        -0.77483284,  1.26128216],\n",
       "       [ 0.1397103 ,  1.30706337, -0.23808933, ...,  0.3628503 ,\n",
       "         0.05271629, -0.04643572],\n",
       "       [-0.45564031,  1.32194584,  0.4403831 , ...,  1.1328976 ,\n",
       "        -0.94757994, -0.00752748],\n",
       "       ...,\n",
       "       [-1.00621052, -1.24932869, -0.21491982, ..., -0.00878209,\n",
       "        -3.15830563, -0.49780908],\n",
       "       [ 0.60746322,  0.84807465, -0.62414474, ...,  0.41426686,\n",
       "        -1.10013967,  1.03793719],\n",
       "       [-0.2406714 , -2.00152288,  1.05968201, ...,  0.37090175,\n",
       "        -0.33750567, -1.69492268]])"
      ]
     },
     "execution_count": 45,
     "metadata": {},
     "output_type": "execute_result"
    }
   ],
   "source": [
    "x_train"
   ]
  },
  {
   "cell_type": "code",
   "execution_count": 46,
   "id": "f2cdaf73",
   "metadata": {},
   "outputs": [
    {
     "data": {
      "text/plain": [
       "1197009    4\n",
       "1841953    4\n",
       "893802     6\n",
       "166236     8\n",
       "218152     8\n",
       "          ..\n",
       "1077389    7\n",
       "1552189    4\n",
       "2215104    1\n",
       "1484405    1\n",
       "468801     6\n",
       "Name: label, Length: 9810819, dtype: int64"
      ]
     },
     "execution_count": 46,
     "metadata": {},
     "output_type": "execute_result"
    }
   ],
   "source": [
    "y_train"
   ]
  },
  {
   "cell_type": "code",
   "execution_count": 54,
   "id": "5f6e9992",
   "metadata": {
    "scrolled": true
   },
   "outputs": [
    {
     "name": "stdout",
     "output_type": "stream",
     "text": [
      "Gaussian Naive Bayes model accuracy(in %): 47.98440905041576\n",
      "Gaussian Naive Bayes model f1_score: 0.450687904906263\n"
     ]
    }
   ],
   "source": [
    "from sklearn.naive_bayes import GaussianNB\n",
    "gnb = GaussianNB()\n",
    "gnb.fit(x_train, y_train)\n",
    "y_pred = gnb.predict(x_test)\n",
    "from sklearn import metrics\n",
    "from sklearn.metrics import f1_score\n",
    "print(\"Gaussian Naive Bayes model accuracy(in %):\", metrics.accuracy_score(y_test, y_pred)*100)\n",
    "print(\"Gaussian Naive Bayes model f1_score:\", f1_score(y_test, y_pred,average='weighted'))\n"
   ]
  },
  {
   "cell_type": "code",
   "execution_count": 57,
   "id": "90b8cd31",
   "metadata": {
    "scrolled": false
   },
   "outputs": [],
   "source": [
    "from sklearn.neighbors import KNeighborsClassifier\n",
    "knn_clf=KNeighborsClassifier()\n",
    "knn_clf.fit(x_train,y_train)\n",
    "ypred1=knn_clf.predict(x_test)\n"
   ]
  },
  {
   "cell_type": "code",
   "execution_count": 58,
   "id": "76dbf049",
   "metadata": {},
   "outputs": [
    {
     "name": "stdout",
     "output_type": "stream",
     "text": [
      "Kneighbour model accuracy(in %): 86.86817207939805\n",
      "Kneighbour model f1_score: 0.8664637686303941\n"
     ]
    }
   ],
   "source": [
    "print(\"Kneighbour model accuracy(in %):\", metrics.accuracy_score(y_test, ypred1)*100)\n",
    "print(\"Kneighbour model f1_score:\", f1_score(y_test, ypred1,average='weighted'))"
   ]
  },
  {
   "cell_type": "code",
   "execution_count": 56,
   "id": "3ff681b4",
   "metadata": {},
   "outputs": [
    {
     "name": "stdout",
     "output_type": "stream",
     "text": [
      "Decision Tree model accuracy(in %): 40.495086037660464\n",
      "Decision Tree model f1_score: 0.29836495402944296\n"
     ]
    }
   ],
   "source": [
    "from sklearn.tree import DecisionTreeClassifier\n",
    "dtree_model = DecisionTreeClassifier(max_depth = 2).fit(x_train, y_train)\n",
    "dtree_predictions = dtree_model.predict(x_test)\n",
    "print(\"Decision Tree model accuracy(in %):\", metrics.accuracy_score(y_test, dtree_predictions)*100)\n",
    "print(\"Decision Tree model f1_score:\", f1_score(y_test, dtree_predictions,average='weighted'))"
   ]
  },
  {
   "cell_type": "markdown",
   "id": "ebbd429c",
   "metadata": {},
   "source": [
    "# As we can see our knn classifier predicts to 86% of accuracy of the respective labels"
   ]
  },
  {
   "cell_type": "markdown",
   "id": "d37e5532",
   "metadata": {},
   "source": [
    "# This is my Submitting to Ranchpal Short assesment \n",
    "# Regards Jahaan Singh\n",
    "### singhjahaan8@gmail.com"
   ]
  },
  {
   "cell_type": "code",
   "execution_count": null,
   "id": "833b571a",
   "metadata": {},
   "outputs": [],
   "source": []
  }
 ],
 "metadata": {
  "kernelspec": {
   "display_name": "Python 3",
   "language": "python",
   "name": "python3"
  },
  "language_info": {
   "codemirror_mode": {
    "name": "ipython",
    "version": 3
   },
   "file_extension": ".py",
   "mimetype": "text/x-python",
   "name": "python",
   "nbconvert_exporter": "python",
   "pygments_lexer": "ipython3",
   "version": "3.8.8"
  }
 },
 "nbformat": 4,
 "nbformat_minor": 5
}
